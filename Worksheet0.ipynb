{
  "nbformat": 4,
  "nbformat_minor": 0,
  "metadata": {
    "colab": {
      "provenance": []
    },
    "kernelspec": {
      "name": "python3",
      "display_name": "Python 3"
    },
    "language_info": {
      "name": "python"
    }
  },
  "cells": [
    {
      "cell_type": "markdown",
      "source": [
        "Name: Anmol Shrestha\n",
        "\n",
        "Section: L6CG19\n",
        "\n",
        "Worksheet-0"
      ],
      "metadata": {
        "id": "dj4y064t0P74"
      }
    },
    {
      "cell_type": "markdown",
      "source": [
        "# TO DO TASK"
      ],
      "metadata": {
        "id": "yoO7KYba0v-X"
      }
    },
    {
      "cell_type": "markdown",
      "source": [
        "#4.1.Exercie on Functions"
      ],
      "metadata": {
        "id": "NpLl3Pcw1b4w"
      }
    },
    {
      "cell_type": "markdown",
      "source": [
        "**Task - 1:**\n",
        "\n",
        "Create a Python program that converts between different units of measurement.\n",
        "\n",
        "*  The program should:\n",
        "\n",
        "    1.Prompt the user to choose the type of conversion (e.g., length, weight, volume).\n",
        "\n",
        "    2.Ask the user to input the value to be converted.\n",
        "\n",
        "    3.Perform the conversion and display the result.\n",
        "\n",
        "    4.Handle potential errors, such as invalid input or unsupported conversion types.\n",
        "\n",
        "*  Requirements:\n",
        "\n",
        "    1.Functions: Define at least one function to perform the conversion.\n",
        "\n",
        "    2.Error Handling: Use try-except blocks to handle invalid input (e.g., non-numeric values).\n",
        "\n",
        "    3.User Input: Prompt the user to select the conversion type and input the value.\n",
        "\n",
        "    4.Docstrings: Include a docstring in your function to describe its purpose, parameters, and return value.\n",
        "\n",
        "\n",
        "\n",
        "*   Conversion Options:\n",
        "\n",
        "    1.Length:\n",
        "\n",
        "    * Convert meters (m) to feet (ft).\n",
        "    * Convert feet (ft) to meters (m).\n",
        "\n",
        "    2.Weight:\n",
        "    * Convert kilograms (kg) to pounds (lbs).\n",
        "    * Convert pounds (lbs) to kilograms (kg).\n",
        "\n",
        "    3.Volume:\n",
        "    * Convert liters (L) to gallons (gal).\n",
        "    * Convert gallons (gal) to liters (L)."
      ],
      "metadata": {
        "id": "N7zXvw6-02sk"
      }
    },
    {
      "cell_type": "code",
      "source": [
        "def get_choice():\n",
        "    \"\"\"\n",
        "    Prompts the user to choose a conversion type and returns the corresponding conversion details.\n",
        "    \"\"\"\n",
        "\n",
        "    conversion_options = {\n",
        "       \"1\": (\"meters_to_feet\", \"Length: Meters (m) to Feet (ft)\", \"m\", \"ft\"),\n",
        "        \"2\": (\"feet_to_meters\", \"Length: Feet (ft) to Meters (m)\", \"ft\", \"m\"),\n",
        "        \"3\": (\"kilograms_to_pounds\", \"Weight: Kilograms (kg) to Pounds (lbs)\", \"kg\", \"lbs\"),\n",
        "        \"4\": (\"pounds_to_kilograms\", \"Weight: Pounds (lbs) to Kilograms (kg)\", \"lbs\", \"kg\"),\n",
        "        \"5\": (\"liters_to_gallons\", \"Volume: Liters (L) to Gallons (gal)\", \"L\", \"gal\"),\n",
        "        \"6\": (\"gallons_to_liters\", \"Volume: Gallons (gal) to Liters (L)\", \"gal\", \"L\")\n",
        "    }\n",
        "\n",
        "    print(\"\\nWelcome to the Unit Converter \")\n",
        "    print(\"Choose a conversion option from the list below:\")\n",
        "    for key, value in conversion_options.items():\n",
        "        print(f\"{key}. {value[1]}\")\n",
        "\n",
        "    choice = input(\"Enter the number of the conversion you want: \").strip()\n",
        "    return conversion_options.get(choice, None)\n",
        "\n",
        "def perform_conversion(value, conv_type):\n",
        "    \"\"\"\n",
        "    Performs the unit conversion based on the selected conversion type.\n",
        "\n",
        "    Parameters:\n",
        "    value -> float: The value that must be converted.\n",
        "    conv_type -> str: The choice of conversion type\n",
        "    \"\"\"\n",
        "    conv_functions = {\n",
        "        \"meters_to_feet\": lambda v: v * 3.281,\n",
        "        \"feet_to_meters\": lambda v: v / 3.281,\n",
        "        \"kilograms_to_pounds\": lambda v: v * 2.20462,\n",
        "        \"pounds_to_kilograms\": lambda v: v * 0.453592,\n",
        "        \"liters_to_gallons\": lambda v: v * 0.264172,\n",
        "        \"gallons_to_liters\": lambda v: v * 3.78541\n",
        "    }\n",
        "\n",
        "    return conv_functions.get(conv_type, lambda v: None)(value)\n",
        "\n",
        "def main():\n",
        "    while True:\n",
        "        conversion_choice = get_choice()\n",
        "\n",
        "        if not conversion_choice:\n",
        "            print(\"\\nInvalid choice. Please select a valid option for the list.\\n\")\n",
        "            continue\n",
        "\n",
        "        conv_type, description, from_unit, to_unit = conversion_choice\n",
        "        print(f\"You have selected:\\n{description}\")\n",
        "\n",
        "        try:\n",
        "            value = float(input(f\"\\nEnter the value in {from_unit}: \"))\n",
        "            converted_value = perform_conversion(value, conv_type)\n",
        "\n",
        "            if converted_value is not None:\n",
        "                print(f\"Result: {value} {from_unit} is equal to {converted_value:.4f} {to_unit}\")\n",
        "            else:\n",
        "                print(\"Conversion error. Please try again.\")\n",
        "\n",
        "        except ValueError:\n",
        "            print(\"Invalid input. Please enter a valid number.\")\n",
        "\n",
        "        another = input(\"\\nWould you like to perform another conversion? (yes/no): \").strip().lower()\n",
        "        if another != \"yes\":\n",
        "            print(\"End of program! Thank you for using the Unit Converter!\")\n",
        "            break\n",
        "\n",
        "if __name__ == \"__main__\":\n",
        "    main()"
      ],
      "metadata": {
        "colab": {
          "base_uri": "https://localhost:8080/"
        },
        "id": "D7TutnSo03Sy",
        "outputId": "0c14aa97-fd8b-4550-8e24-8caab2c47728"
      },
      "execution_count": 1,
      "outputs": [
        {
          "output_type": "stream",
          "name": "stdout",
          "text": [
            "\n",
            "Welcome to the Unit Converter \n",
            "Choose a conversion option from the list below:\n",
            "1. Length: Meters (m) to Feet (ft)\n",
            "2. Length: Feet (ft) to Meters (m)\n",
            "3. Weight: Kilograms (kg) to Pounds (lbs)\n",
            "4. Weight: Pounds (lbs) to Kilograms (kg)\n",
            "5. Volume: Liters (L) to Gallons (gal)\n",
            "6. Volume: Gallons (gal) to Liters (L)\n",
            "Enter the number of the conversion you want: 5\n",
            "You have selected:\n",
            "Volume: Liters (L) to Gallons (gal)\n",
            "\n",
            "Enter the value in L: 2\n",
            "Result: 2.0 L is equal to 0.5283 gal\n",
            "\n",
            "Would you like to perform another conversion? (yes/no): no\n",
            "End of program! Thank you for using the Unit Converter!\n"
          ]
        }
      ]
    },
    {
      "cell_type": "markdown",
      "source": [
        "**Task - 2:**\n",
        "\n",
        "Create a Python program that performs various mathematical operations on a list of numbers.\n",
        "\n",
        "* The program should:\n",
        "\n",
        "  1.Prompt the user to choose an operation (e.g., find the sum, average, maximum, or minimum of the numbers)\n",
        "\n",
        "  2.Ask the user to input a list of numbers (separated by spaces).\n",
        "\n",
        "  3.Perform the selected operation and display the result.\n",
        "\n",
        "  4.Handle potential errors, such as invalid input or empty lists.\n",
        "\n",
        "* Requirements:\n",
        "\n",
        "  1.Functions: Define at least one function for each operation (sum, average, maximum, minimum).\n",
        "\n",
        "  2.Error Handling: Use try-except blocks to handle invalid input (e.g., non-numeric values or empty lists).\n",
        "\n",
        "  3.User Input: Prompt the user to select the operation and input the list of numbers.\n",
        "\n",
        "  4.Docstrings: Include a docstring in each function to describe its purpose, parameters, and return value."
      ],
      "metadata": {
        "id": "k_LgVAWL1CMy"
      }
    },
    {
      "cell_type": "code",
      "source": [
        "def find_sum(nums):\n",
        "  return sum(nums)\n",
        "\n",
        "def find_average(nums):\n",
        "  return sum(nums)/len(nums)\n",
        "\n",
        "def find_max(nums):\n",
        "  return max(nums)\n",
        "\n",
        "def find_min(nums):\n",
        "  return min(nums)\n",
        "\n",
        "def get_numbers_from_user():\n",
        "  \"\"\"\n",
        "  Function to get a list of numbers from the user input.\n",
        "  \"\"\"\n",
        "  while True:\n",
        "    try:\n",
        "      numbers = list(map(float,input(\"Enter numbers separated by spaces: \").split()))\n",
        "      if not numbers:\n",
        "        print(\"Error: The list cannot be empty. Please enter at leeast one number\")\n",
        "        continue\n",
        "      return numbers\n",
        "    except ValueError:\n",
        "      print(\"Error: Invalid input. Please enter numbers separated by spaces.\")\n",
        "\n",
        "\n",
        "def main():\n",
        "  operations = {\n",
        "      \"1\": (\"Sum\", find_sum),\n",
        "      \"2\": (\"Average\", find_average),\n",
        "      \"3\": (\"Maximum\", find_max),\n",
        "      \"4\": (\"Minimum\", find_min)\n",
        "  }\n",
        "  while True:\n",
        "    print(\"Welcome to the Program!\")\n",
        "    print(\"Choose a mathematical operations: \")\n",
        "    for key,(name,_) in operations.items():\n",
        "      print(f\"{key}. {name}\")\n",
        "\n",
        "    choice = input(\"Enter the numbers of the operation you want to perform:\").strip()\n",
        "\n",
        "    if choice not in operations:\n",
        "      print(\"Invalid choice. Please select a valid option.\\n\")\n",
        "      continue\n",
        "\n",
        "    operation_name, operation_func = operations[choice]\n",
        "    print(f\"You have selected: {operation_name}\")\n",
        "\n",
        "    num = get_numbers_from_user()\n",
        "    result = operation_func(num)\n",
        "\n",
        "    if result is not None:\n",
        "      print(f\"Result:{result}\")\n",
        "    else:\n",
        "      print(\"Error\")\n",
        "\n",
        "    again = input(\"\\nDo you want to perform another operation? (yes/no): \").strip().lower()\n",
        "    if again != \"yes\":\n",
        "      print(\"End of program! Thank you for using the Program!\")\n",
        "      break\n",
        "\n",
        "if __name__ == \"__main__\":\n",
        "  main()\n"
      ],
      "metadata": {
        "colab": {
          "base_uri": "https://localhost:8080/"
        },
        "id": "OHPNp_kF1FSO",
        "outputId": "9f8d2ff8-1df3-4d53-b00a-d762737710d7"
      },
      "execution_count": 3,
      "outputs": [
        {
          "output_type": "stream",
          "name": "stdout",
          "text": [
            "Welcome to the Program!\n",
            "Choose a mathematical operations: \n",
            "1. Sum\n",
            "2. Average\n",
            "3. Maximum\n",
            "4. Minimum\n",
            "Enter the numbers of the operation you want to perform:4\n",
            "You have selected: Minimum\n",
            "Enter numbers separated by spaces: 2\n",
            "Result:2.0\n",
            "\n",
            "Do you want to perform another operation? (yes/no): no\n",
            "End of program! Thank you for using the Program!\n"
          ]
        }
      ]
    },
    {
      "cell_type": "markdown",
      "source": [
        "#4.2.Exercise on List Manipulation:"
      ],
      "metadata": {
        "id": "bY6l40_U1We9"
      }
    },
    {
      "cell_type": "markdown",
      "source": [
        "**Task - 1:**\n",
        "\n",
        "Create a Python program that converts between different units of measurement.\n",
        "\n",
        "*  The program should:\n",
        "\n",
        "    1.Prompt the user to choose the type of conversion (e.g., length, weight, volume).\n",
        "\n",
        "    2.Ask the user to input the value to be converted.\n",
        "\n",
        "    3.Perform the conversion and display the result.\n",
        "\n",
        "    4.Handle potential errors, such as invalid input or unsupported conversion types.\n",
        "\n",
        "*  Requirements:\n",
        "\n",
        "    1.Functions: Define at least one function to perform the conversion.\n",
        "\n",
        "    2.Error Handling: Use try-except blocks to handle invalid input (e.g., non-numeric values).\n",
        "\n",
        "    3.User Input: Prompt the user to select the conversion type and input the value.\n",
        "\n",
        "    4.Docstrings: Include a docstring in your function to describe its purpose, parameters, and return value.\n",
        "\n",
        "\n",
        "\n",
        "*   Conversion Options:\n",
        "\n",
        "    1.Length:\n",
        "\n",
        "    * Convert meters (m) to feet (ft).\n",
        "    * Convert feet (ft) to meters (m).\n",
        "\n",
        "    2.Weight:\n",
        "    * Convert kilograms (kg) to pounds (lbs).\n",
        "    * Convert pounds (lbs) to kilograms (kg).\n",
        "\n",
        "    3.Volume:\n",
        "    * Convert liters (L) to gallons (gal).\n",
        "    * Convert gallons (gal) to liters (L)."
      ],
      "metadata": {
        "id": "sPUkI3Ej1eQE"
      }
    },
    {
      "cell_type": "code",
      "source": [
        "def get_choice():\n",
        "    \"\"\"\n",
        "    Prompts the user to choose a conversion type and returns the corresponding conversion details.\n",
        "    \"\"\"\n",
        "\n",
        "    conversion_options = {\n",
        "       \"1\": (\"meters_to_feet\", \"Length: Meters (m) to Feet (ft)\", \"m\", \"ft\"),\n",
        "        \"2\": (\"feet_to_meters\", \"Length: Feet (ft) to Meters (m)\", \"ft\", \"m\"),\n",
        "        \"3\": (\"kilograms_to_pounds\", \"Weight: Kilograms (kg) to Pounds (lbs)\", \"kg\", \"lbs\"),\n",
        "        \"4\": (\"pounds_to_kilograms\", \"Weight: Pounds (lbs) to Kilograms (kg)\", \"lbs\", \"kg\"),\n",
        "        \"5\": (\"liters_to_gallons\", \"Volume: Liters (L) to Gallons (gal)\", \"L\", \"gal\"),\n",
        "        \"6\": (\"gallons_to_liters\", \"Volume: Gallons (gal) to Liters (L)\", \"gal\", \"L\")\n",
        "    }\n",
        "\n",
        "    print(\"\\nWelcome to the Unit Converter \")\n",
        "    print(\"Choose a conversion option from the list below:\")\n",
        "    for key, value in conversion_options.items():\n",
        "        print(f\"{key}. {value[1]}\")\n",
        "\n",
        "    choice = input(\"Enter the number of the conversion you want: \").strip()\n",
        "    return conversion_options.get(choice, None)\n",
        "\n",
        "def perform_conversion(value, conv_type):\n",
        "    \"\"\"\n",
        "    Performs the unit conversion based on the selected conversion type.\n",
        "\n",
        "    Parameters:\n",
        "    value -> float: The value that must be converted.\n",
        "    conv_type -> str: The choice of conversion type\n",
        "    \"\"\"\n",
        "    conv_functions = {\n",
        "        \"meters_to_feet\": lambda v: v * 3.281,\n",
        "        \"feet_to_meters\": lambda v: v / 3.281,\n",
        "        \"kilograms_to_pounds\": lambda v: v * 2.20462,\n",
        "        \"pounds_to_kilograms\": lambda v: v * 0.453592,\n",
        "        \"liters_to_gallons\": lambda v: v * 0.264172,\n",
        "        \"gallons_to_liters\": lambda v: v * 3.78541\n",
        "    }\n",
        "\n",
        "    return conv_functions.get(conv_type, lambda v: None)(value)\n",
        "\n",
        "def main():\n",
        "    while True:\n",
        "        conversion_choice = get_choice()\n",
        "\n",
        "        if not conversion_choice:\n",
        "            print(\"\\nInvalid choice. Please select a valid option for the list.\\n\")\n",
        "            continue\n",
        "\n",
        "        conv_type, description, from_unit, to_unit = conversion_choice\n",
        "        print(f\"You have selected:\\n{description}\")\n",
        "\n",
        "        try:\n",
        "            value = float(input(f\"\\nEnter the value in {from_unit}: \"))\n",
        "            converted_value = perform_conversion(value, conv_type)\n",
        "\n",
        "            if converted_value is not None:\n",
        "                print(f\"Result: {value} {from_unit} is equal to {converted_value:.4f} {to_unit}\")\n",
        "            else:\n",
        "                print(\"Conversion error. Please try again.\")\n",
        "\n",
        "        except ValueError:\n",
        "            print(\"Invalid input. Please enter a valid number.\")\n",
        "\n",
        "        another = input(\"\\nWould you like to perform another conversion? (yes/no): \").strip().lower()\n",
        "        if another != \"yes\":\n",
        "            print(\"End of program! Thank you for using the Unit Converter!\")\n",
        "            break\n",
        "\n",
        "if __name__ == \"__main__\":\n",
        "    main()"
      ],
      "metadata": {
        "colab": {
          "base_uri": "https://localhost:8080/"
        },
        "id": "CqU0z7kE1giJ",
        "outputId": "0ca4bacb-09f9-49c0-9651-55eb34cad969"
      },
      "execution_count": 4,
      "outputs": [
        {
          "output_type": "stream",
          "name": "stdout",
          "text": [
            "\n",
            "Welcome to the Unit Converter \n",
            "Choose a conversion option from the list below:\n",
            "1. Length: Meters (m) to Feet (ft)\n",
            "2. Length: Feet (ft) to Meters (m)\n",
            "3. Weight: Kilograms (kg) to Pounds (lbs)\n",
            "4. Weight: Pounds (lbs) to Kilograms (kg)\n",
            "5. Volume: Liters (L) to Gallons (gal)\n",
            "6. Volume: Gallons (gal) to Liters (L)\n",
            "Enter the number of the conversion you want: 3\n",
            "You have selected:\n",
            "Weight: Kilograms (kg) to Pounds (lbs)\n",
            "\n",
            "Enter the value in kg: 25\n",
            "Result: 25.0 kg is equal to 55.1155 lbs\n",
            "\n",
            "Would you like to perform another conversion? (yes/no): no\n",
            "End of program! Thank you for using the Unit Converter!\n"
          ]
        }
      ]
    },
    {
      "cell_type": "markdown",
      "source": [
        "**Task - 2:**\n",
        "\n",
        "Create a Python program that performs various mathematical operations on a list of numbers.\n",
        "\n",
        "* The program should:\n",
        "\n",
        "  1.Prompt the user to choose an operation (e.g., find the sum, average, maximum, or minimum of the numbers)\n",
        "\n",
        "  2.Ask the user to input a list of numbers (separated by spaces).\n",
        "\n",
        "  3.Perform the selected operation and display the result.\n",
        "\n",
        "  4.Handle potential errors, such as invalid input or empty lists.\n",
        "\n",
        "* Requirements:\n",
        "\n",
        "  1.Functions: Define at least one function for each operation (sum, average, maximum, minimum).\n",
        "\n",
        "  2.Error Handling: Use try-except blocks to handle invalid input (e.g., non-numeric values or empty lists).\n",
        "\n",
        "  3.User Input: Prompt the user to select the operation and input the list of numbers.\n",
        "\n",
        "  4.Docstrings: Include a docstring in each function to describe its purpose, parameters, and return value."
      ],
      "metadata": {
        "id": "ZSMXTl1F1m_9"
      }
    },
    {
      "cell_type": "code",
      "source": [
        "def find_sum(nums):\n",
        "  return sum(nums)\n",
        "\n",
        "def find_average(nums):\n",
        "  return sum(nums)/len(nums)\n",
        "\n",
        "def find_max(nums):\n",
        "  return max(nums)\n",
        "\n",
        "def find_min(nums):\n",
        "  return min(nums)\n",
        "\n",
        "def get_numbers_from_user():\n",
        "  \"\"\"\n",
        "  Function to get a list of numbers from the user input.\n",
        "  \"\"\"\n",
        "  while True:\n",
        "    try:\n",
        "      numbers = list(map(float,input(\"Enter numbers separated by spaces: \").split()))\n",
        "      if not numbers:\n",
        "        print(\"Error: The list cannot be empty. Please enter at leeast one number\")\n",
        "        continue\n",
        "      return numbers\n",
        "    except ValueError:\n",
        "      print(\"Error: Invalid input. Please enter numbers separated by spaces.\")\n",
        "\n",
        "\n",
        "def main():\n",
        "  operations = {\n",
        "      \"1\": (\"Sum\", find_sum),\n",
        "      \"2\": (\"Average\", find_average),\n",
        "      \"3\": (\"Maximum\", find_max),\n",
        "      \"4\": (\"Minimum\", find_min)\n",
        "  }\n",
        "  while True:\n",
        "    print(\"Welcome to the Program!\")\n",
        "    print(\"Choose a mathematical operations: \")\n",
        "    for key,(name,_) in operations.items():\n",
        "      print(f\"{key}. {name}\")\n",
        "\n",
        "    choice = input(\"Enter the numbers of the operation you want to perform:\").strip()\n",
        "\n",
        "    if choice not in operations:\n",
        "      print(\"Invalid choice. Please select a valid option.\\n\")\n",
        "      continue\n",
        "\n",
        "    operation_name, operation_func = operations[choice]\n",
        "    print(f\"You have selected: {operation_name}\")\n",
        "\n",
        "    num = get_numbers_from_user()\n",
        "    result = operation_func(num)\n",
        "\n",
        "    if result is not None:\n",
        "      print(f\"Result:{result}\")\n",
        "    else:\n",
        "      print(\"Error\")\n",
        "\n",
        "    again = input(\"\\nDo you want to perform another operation? (yes/no): \").strip().lower()\n",
        "    if again != \"yes\":\n",
        "      print(\"End of program! Thank you for using the Program!\")\n",
        "      break\n",
        "\n",
        "if __name__ == \"__main__\":\n",
        "  main()\n"
      ],
      "metadata": {
        "colab": {
          "base_uri": "https://localhost:8080/"
        },
        "id": "_aBI0Je81plm",
        "outputId": "90273132-88d2-4778-b0d1-927cd7977903"
      },
      "execution_count": 5,
      "outputs": [
        {
          "output_type": "stream",
          "name": "stdout",
          "text": [
            "Welcome to the Program!\n",
            "Choose a mathematical operations: \n",
            "1. Sum\n",
            "2. Average\n",
            "3. Maximum\n",
            "4. Minimum\n",
            "Enter the numbers of the operation you want to perform:4\n",
            "You have selected: Minimum\n",
            "Enter numbers separated by spaces: 2\n",
            "Result:2.0\n",
            "\n",
            "Do you want to perform another operation? (yes/no): no\n",
            "End of program! Thank you for using the Program!\n"
          ]
        }
      ]
    },
    {
      "cell_type": "markdown",
      "source": [
        "#4.2.Exercise on List Manipulation:"
      ],
      "metadata": {
        "id": "3_K6rBvo1uM5"
      }
    },
    {
      "cell_type": "markdown",
      "source": [
        "1. Extract Every Other Element:\n",
        "\n",
        "  Write a Python function that extracts every other element from a list, starting from the first element.\n",
        "\n",
        "* Requirements:\n",
        "\n",
        "  – Define a function extract every other(lst) that takes a list lst as input and returns a\n",
        "  new list containing every other element from the original list.\n",
        "\n",
        "  – Example: For the input [1, 2, 3, 4, 5, 6], the output should be [1, 3, 5]."
      ],
      "metadata": {
        "id": "YN28ac-U1zaN"
      }
    },
    {
      "cell_type": "code",
      "source": [
        "def extract(lst):\n",
        "  \"\"\"\n",
        "    Extracts every other element from the input list, starting from the first element.\n",
        "\n",
        "  \"\"\"\n",
        "  return lst[::2]\n",
        "\n",
        "input_list =[1,2,3,4,5,6,7,8,9]\n",
        "output_list = extract(input_list)\n",
        "print(\"The original list:\", input_list)\n",
        "print(\"The new list with every other element: \", output_list)"
      ],
      "metadata": {
        "colab": {
          "base_uri": "https://localhost:8080/"
        },
        "id": "VWzjEmw_1zrK",
        "outputId": "7e3e7b64-66ac-416b-ada9-2fe3282399eb"
      },
      "execution_count": 6,
      "outputs": [
        {
          "output_type": "stream",
          "name": "stdout",
          "text": [
            "The original list: [1, 2, 3, 4, 5, 6, 7, 8, 9]\n",
            "The new list with every other element:  [1, 3, 5, 7, 9]\n"
          ]
        }
      ]
    },
    {
      "cell_type": "markdown",
      "source": [
        "2. Slice a Sublist:\n",
        "\n",
        "  Write a Python function that returns a sublist from a given list, starting from a specified index and\n",
        "  ending at another specified index.\n",
        "\n",
        "* Requirements:\n",
        "\n",
        "  – Define a function get sublist(lst, start, end) that takes a list lst, a starting index\n",
        "  start, and an ending index end as input and returns the sublist from start to end (inclusive).\n",
        "\n",
        "  – Example: For the input [1, 2, 3, 4, 5, 6] with start=2 and end=4, the output should\n",
        "  be [3, 4, 5]."
      ],
      "metadata": {
        "id": "YCXre7a012bM"
      }
    },
    {
      "cell_type": "code",
      "source": [
        "def get_sublist(lst, start, end):\n",
        "  \"\"\"\n",
        "    Returns a sublist from a given list, starting from a specified index and ending at another specified index.\n",
        "  \"\"\"\n",
        "\n",
        "  return lst[start:end+1]\n",
        "\n",
        "input_list = [1, 2, 3, 4, 5, 6, 7, 8]\n",
        "start = 2\n",
        "end = 6\n",
        "result = get_sublist(input_list, start, end)\n",
        "print(\"The original list:\", input_list)\n",
        "print(\"The sublist from specified start to end is: \", result)"
      ],
      "metadata": {
        "colab": {
          "base_uri": "https://localhost:8080/"
        },
        "id": "AKeFzA2S14Od",
        "outputId": "40c82ef4-f0cd-4773-9994-278a7cee04de"
      },
      "execution_count": 7,
      "outputs": [
        {
          "output_type": "stream",
          "name": "stdout",
          "text": [
            "The original list: [1, 2, 3, 4, 5, 6, 7, 8]\n",
            "The sublist from specified start to end is:  [3, 4, 5, 6, 7]\n"
          ]
        }
      ]
    },
    {
      "cell_type": "markdown",
      "source": [
        "3. Reverse a List Using Slicing:\n",
        "\n",
        "  Write a Python function that reverses a list using slicing.\n",
        "\n",
        "* Requirements:\n",
        "\n",
        "  – Define a function reverse list(lst) that takes a list lst and returns a reversed list using\n",
        "  slicing.\n",
        "\n",
        "  – Example: For the input [1, 2, 3, 4, 5], the output should be [5, 4, 3, 2, 1]."
      ],
      "metadata": {
        "id": "aJwEd_GK17q3"
      }
    },
    {
      "cell_type": "code",
      "source": [
        "def reverse_list(lst):\n",
        "  \"\"\"\n",
        "    Reverses the given list and returns the reversed list.\n",
        "  \"\"\"\n",
        "  return lst[::-1]\n",
        "\n",
        "input_list = [1, 2, 3, 4, 5, 6, 7, 8]\n",
        "result = reverse_list(input_list)\n",
        "print(\"The original list:\", input_list)\n",
        "print(\"The reversed list is: \", result)"
      ],
      "metadata": {
        "colab": {
          "base_uri": "https://localhost:8080/"
        },
        "id": "Wjxtw0eM18DY",
        "outputId": "23975a88-8cd9-469c-fe29-78aa43055bf7"
      },
      "execution_count": 8,
      "outputs": [
        {
          "output_type": "stream",
          "name": "stdout",
          "text": [
            "The original list: [1, 2, 3, 4, 5, 6, 7, 8]\n",
            "The reversed list is:  [8, 7, 6, 5, 4, 3, 2, 1]\n"
          ]
        }
      ]
    },
    {
      "cell_type": "markdown",
      "source": [
        "4. Remove the First and Last Elements:\n",
        "\n",
        "  Write a Python function that removes the first and last elements of a list and returns the resulting\n",
        "  sublist.\n",
        "\n",
        "* Requirements:\n",
        "\n",
        "  – Define a function remove first last(lst) that takes a list lst and returns a sublist without\n",
        "  the first and last elements using slicing.\n",
        "\n",
        "  – Example: For the input [1, 2, 3, 4, 5], the output should be [2, 3, 4]."
      ],
      "metadata": {
        "id": "vU6WPhPy1_2T"
      }
    },
    {
      "cell_type": "code",
      "source": [
        "def remove_first_last(lst):\n",
        "  \"\"\"\n",
        "   Removes the first and last elements of the list.\n",
        "  \"\"\"\n",
        "  return lst[1:-1]\n",
        "\n",
        "input_listlist = [1, 2, 3, 4, 5, 6, 7, 8]\n",
        "result = remove_first_last(input_list)\n",
        "print(\"The original list:\", input_list)\n",
        "print(\"The sublist without first and last elements is: \", result)"
      ],
      "metadata": {
        "colab": {
          "base_uri": "https://localhost:8080/"
        },
        "id": "kncGSrI-2AH8",
        "outputId": "aef3fbd2-dad6-4ced-cca5-bf86931d22f7"
      },
      "execution_count": 9,
      "outputs": [
        {
          "output_type": "stream",
          "name": "stdout",
          "text": [
            "The original list: [1, 2, 3, 4, 5, 6, 7, 8]\n",
            "The sublist without first and last elements is:  [2, 3, 4, 5, 6, 7]\n"
          ]
        }
      ]
    },
    {
      "cell_type": "markdown",
      "source": [
        "5. Get the First n Elements:\n",
        "\n",
        "  Write a Python function that extracts the first n elements from a list.\n",
        "* Requirements:\n",
        "\n",
        "  – Define a function get first n(lst, n) that takes a list lst and an integer n as input and\n",
        "  returns the first n elements of the list using slicing.\n",
        "\n",
        "  – Example: For the input [1, 2, 3, 4, 5] with n=3, the output should be [1, 2, 3]."
      ],
      "metadata": {
        "id": "NZ4cSSmG2D5a"
      }
    },
    {
      "cell_type": "code",
      "source": [
        "def get_first_n(lst, n):\n",
        "  \"\"\"\n",
        "    Returning the first 'n' elements of the list.\n",
        "  \"\"\"\n",
        "  return lst[:n]\n",
        "\n",
        "input_list = [1, 2, 3, 4, 5, 6, 7, 8]\n",
        "n = 6\n",
        "result = get_first_n(input_list, n)\n",
        "print(\"The original list:\", input_list)\n",
        "print(\"The first\", n, \"elements of the list are: \", result)"
      ],
      "metadata": {
        "colab": {
          "base_uri": "https://localhost:8080/"
        },
        "id": "FUOl7onp2EIm",
        "outputId": "dc28e22c-8683-479f-9fb8-08fe178eb292"
      },
      "execution_count": 10,
      "outputs": [
        {
          "output_type": "stream",
          "name": "stdout",
          "text": [
            "The original list: [1, 2, 3, 4, 5, 6, 7, 8]\n",
            "The first 6 elements of the list are:  [1, 2, 3, 4, 5, 6]\n"
          ]
        }
      ]
    },
    {
      "cell_type": "markdown",
      "source": [
        "6. Extract Elements from the End:\n",
        "\n",
        "  Write a Python function that extracts the last n elements of a list using slicing.\n",
        "\n",
        "* Requirements:\n",
        "\n",
        "  – Define a function get last n(lst, n) that takes a list lst and an integer n as input and\n",
        "  returns the last n elements of the list.\n",
        "\n",
        "  – Example: For the input [1, 2, 3, 4, 5] with n=2, the output should be [4, 5]."
      ],
      "metadata": {
        "id": "4FRpDu502HFm"
      }
    },
    {
      "cell_type": "code",
      "source": [
        "def get_last_n(lst, n):\n",
        "  \"\"\"\n",
        "    Returning the last 'n' elements of the list.\n",
        "  \"\"\"\n",
        "  return lst[-n:]\n",
        "\n",
        "input_listst = [1, 2, 3, 4, 5, 6, 7, 8]\n",
        "n = 6\n",
        "result = get_last_n(input_list, n)\n",
        "print(\"The original list:\", input_list)\n",
        "print(\"The last\", n, \"elements of the list are: \", result)"
      ],
      "metadata": {
        "colab": {
          "base_uri": "https://localhost:8080/"
        },
        "id": "-mFFwvL52HV3",
        "outputId": "2dc09cdd-42c8-4e6c-c224-1710aa546d05"
      },
      "execution_count": 11,
      "outputs": [
        {
          "output_type": "stream",
          "name": "stdout",
          "text": [
            "The original list: [1, 2, 3, 4, 5, 6, 7, 8]\n",
            "The last 6 elements of the list are:  [3, 4, 5, 6, 7, 8]\n"
          ]
        }
      ]
    },
    {
      "cell_type": "markdown",
      "source": [
        "7. Extract Elements in Reverse Order:\n",
        "\n",
        "  Write a Python function that extracts a list of elements in reverse order starting from the second-to-last\n",
        "  element and skipping one element in between.\n",
        "\n",
        "* Requirements:\n",
        "\n",
        "  – Define a function reverse skip(lst) that takes a list lst and returns a new list containing\n",
        "  every second element starting from the second-to-last, moving backward.\n",
        "\n",
        "  – Example: For the input [1, 2, 3, 4, 5, 6], the output should be [5, 3, 1]."
      ],
      "metadata": {
        "id": "zvuz3euc2KmV"
      }
    },
    {
      "cell_type": "code",
      "source": [
        "def reverse_skip(lst):\n",
        "  \"\"\"\n",
        "    Slices the list from the second-to-last element and skips every other element in reverse order.\n",
        "  \"\"\"\n",
        "  return lst[-2::-2]\n",
        "\n",
        "input_list = [1, 2, 3, 4, 5, 6, 7, 8]\n",
        "result = reverse_skip(input_list)\n",
        "print(\"The original list:\", input_list)\n",
        "print(\"Every other element in reverse order: \",result)"
      ],
      "metadata": {
        "colab": {
          "base_uri": "https://localhost:8080/"
        },
        "id": "rhcBrTby2K3m",
        "outputId": "b080e0b2-50ef-4b4e-aa94-fb1ca25324a0"
      },
      "execution_count": 12,
      "outputs": [
        {
          "output_type": "stream",
          "name": "stdout",
          "text": [
            "The original list: [1, 2, 3, 4, 5, 6, 7, 8]\n",
            "Every other element in reverse order:  [7, 5, 3, 1]\n"
          ]
        }
      ]
    },
    {
      "cell_type": "markdown",
      "source": [
        "#4.3.Exercise on Nested List:"
      ],
      "metadata": {
        "id": "eo3GojJr2O4z"
      }
    },
    {
      "cell_type": "markdown",
      "source": [
        "1. Flatten a Nested List:\n",
        "\n",
        "  Write a Python function that takes a nested list and flattens it into a single list, where all the elements\n",
        "  are in a single dimension.\n",
        "\n",
        "* Requirements:\n",
        "\n",
        "  – Define a function flatten(lst) that takes a nested list lst and returns a flattened version\n",
        "  of the list.\n",
        "\n",
        "  – Example: For the input [[1, 2], [3, 4], [5]], the output should be [1, 2, 3, 4, 5]."
      ],
      "metadata": {
        "id": "ouEQIGtS2RKX"
      }
    },
    {
      "cell_type": "code",
      "source": [
        "def flatten(lst):\n",
        "  \"\"\"\n",
        "    Flattens a nested list into a single list.\n",
        "  \"\"\"\n",
        "  flattened_list = []\n",
        "  for sublist in lst:\n",
        "    for item in sublist:\n",
        "      flattened_list.append(item)\n",
        "  return flattened_list\n",
        "\n",
        "list = [1, 2], [3, 4], [5, 6], [7, 8]\n",
        "print(\"The original list:\", list)\n",
        "flattened_list = flatten(list)\n",
        "print(\"The flattened list:\", flattened_list)"
      ],
      "metadata": {
        "colab": {
          "base_uri": "https://localhost:8080/"
        },
        "id": "trSSiq6w2RYe",
        "outputId": "ec7a3e38-7539-49d8-e71e-aee92c5b6410"
      },
      "execution_count": 13,
      "outputs": [
        {
          "output_type": "stream",
          "name": "stdout",
          "text": [
            "The original list: ([1, 2], [3, 4], [5, 6], [7, 8])\n",
            "The flattened list: [1, 2, 3, 4, 5, 6, 7, 8]\n"
          ]
        }
      ]
    },
    {
      "cell_type": "markdown",
      "source": [
        "2. Accessing Nested List Elements:\n",
        "\n",
        "  Write a Python function that extracts a specific element from a nested list given its indices.\n",
        "\n",
        "* Requirements:\n",
        "\n",
        "  – Define a function access nested element(lst, indices) that takes a nested list lst and\n",
        "  a list of indices indices, and returns the element at that position.\n",
        "\n",
        "  – Example: For the input lst = [[1, 2, 3], [4, 5, 6], [7, 8, 9]] with indices = [1,\n",
        "  2], the output should be 6."
      ],
      "metadata": {
        "id": "R7wX232c2UcR"
      }
    },
    {
      "cell_type": "code",
      "source": [
        "def access_nested_element(lst,indices):\n",
        "  \"\"\"\n",
        "  Accessing the element in the nested list using the provided indices.\n",
        "  \"\"\"\n",
        "  target_value = lst[indices[0]][indices[1]]\n",
        "  return target_value\n",
        "\n",
        "input_list = [[1, 2, 3], [4, 5, 6], [7, 8, 9]]\n",
        "indices = [1, 2]\n",
        "result = access_nested_element(input_list, indices)\n",
        "print(\"The original list:\", input_list)\n",
        "print(\"The element at the specified indices is: \", result)"
      ],
      "metadata": {
        "colab": {
          "base_uri": "https://localhost:8080/"
        },
        "id": "BhtbF1QJ2Upl",
        "outputId": "d4fc4e2d-73a5-4616-e5ae-cc5666b4ce59"
      },
      "execution_count": 14,
      "outputs": [
        {
          "output_type": "stream",
          "name": "stdout",
          "text": [
            "The original list: [[1, 2, 3], [4, 5, 6], [7, 8, 9]]\n",
            "The element at the specified indices is:  6\n"
          ]
        }
      ]
    },
    {
      "cell_type": "markdown",
      "source": [
        "3. Sum of All Elements in a Nested List:\n",
        "\n",
        "  Write a Python function that calculates the sum of all the numbers in a nested list (regardless of depth).\n",
        "\n",
        "* Requirements:\n",
        "\n",
        "  – Define a function sum nested(lst) that takes a nested list lst and returns the sum of all\n",
        "  the elements.\n",
        "  \n",
        "  – Example: For the input [[1, 2], [3, [4, 5]], 6], the output should be 21."
      ],
      "metadata": {
        "id": "FYXzW2YW2YGo"
      }
    },
    {
      "cell_type": "code",
      "source": [
        "def sum_nested(lst):\n",
        "    \"\"\"\n",
        "    Calculates the sum of all elements in a nested list.\n",
        "    \"\"\"\n",
        "    total = 0\n",
        "    for item in lst:\n",
        "        if isinstance(item, list):\n",
        "            total += sum_nested(item)\n",
        "        else:\n",
        "            total += item\n",
        "    return total\n",
        "\n",
        "input_list = [[1, 2, 3], [4, 5, [6, 7], 8], [9, 10, 11]]\n",
        "print(\"The original list:\", input_list)\n",
        "result = sum_nested(input_list)\n",
        "print(\"Sum of all elements in the nested list:\", result)\n"
      ],
      "metadata": {
        "colab": {
          "base_uri": "https://localhost:8080/"
        },
        "id": "oRJck8b82YT6",
        "outputId": "f89242cb-a1e8-4f21-900f-e0b3281e0924"
      },
      "execution_count": 20,
      "outputs": [
        {
          "output_type": "stream",
          "name": "stdout",
          "text": [
            "The original list: [[1, 2, 3], [4, 5, [6, 7], 8], [9, 10, 11]]\n",
            "Sum of all elements in the nested list: 66\n"
          ]
        }
      ]
    },
    {
      "cell_type": "markdown",
      "source": [
        "4. Remove Specific Element from a Nested List:\n",
        "\n",
        "  Write a Python function that removes all occurrences of a specific element from a nested list.\n",
        "* Requirements:\n",
        "\n",
        "  – Define a function remove element(lst, elem) that removes elem from lst and returns the\n",
        "  modified list.\n",
        "  \n",
        "  – Example: For the input lst = [[1, 2], [3, 2], [4, 5]] and elem = 2, the output should\n",
        "  be [[1], [3], [4, 5]]."
      ],
      "metadata": {
        "id": "lEUwqVh120ao"
      }
    },
    {
      "cell_type": "code",
      "source": [
        "def remove_element(lst, elem):\n",
        "  \"\"\"\n",
        "  Removes all occurrences of a specified element from a nested list.\n",
        "  \"\"\"\n",
        "  for sublist in lst:\n",
        "    while elem in sublist:\n",
        "      sublist.remove(elem)\n",
        "  return lst\n",
        "\n",
        "input_list = [[1, 2, 3, 4], [4, 5, [6, 7], 8], [9, 10, 11]]\n",
        "elem = 4\n",
        "print(\"The original list:\", input_list)\n",
        "result = remove_element(input_list, elem)\n",
        "print(\"The modified list after removal of the element is: \", result)"
      ],
      "metadata": {
        "colab": {
          "base_uri": "https://localhost:8080/"
        },
        "id": "dWhaTj0x21Dx",
        "outputId": "c84f3c33-ea2c-4a0f-fa4e-4ad5de6ca535"
      },
      "execution_count": 21,
      "outputs": [
        {
          "output_type": "stream",
          "name": "stdout",
          "text": [
            "The original list: [[1, 2, 3, 4], [4, 5, [6, 7], 8], [9, 10, 11]]\n",
            "The modified list after removal of the element is:  [[1, 2, 3], [5, [6, 7], 8], [9, 10, 11]]\n"
          ]
        }
      ]
    },
    {
      "cell_type": "markdown",
      "source": [
        "5. Find the Maximum Element in a Nested List:\n",
        "\n",
        "  Write a Python function that finds the maximum element in a nested list (regardless of depth).\n",
        "\n",
        "* Requirements:\n",
        "\n",
        "  – Define a function find max(lst) that takes a nested list lst and returns the maximum\n",
        "  element.\n",
        "\n",
        "  – Example: For the input [[1, 2], [3, [4, 5]], 6], the output should be 6."
      ],
      "metadata": {
        "id": "2_d9MBOh2222"
      }
    },
    {
      "cell_type": "code",
      "source": [
        "def find_max(lst):\n",
        "    \"\"\"\n",
        "    Finding the maximum element in a nested list.\n",
        "    \"\"\"\n",
        "    max_element = float('-inf')  # Initialize max_element to the lowest possible value\n",
        "\n",
        "    for item in lst:\n",
        "        if isinstance(item, list):\n",
        "            max_element = max(max_element, find_max(item))\n",
        "        else:\n",
        "            max_element = max(max_element, item)\n",
        "    return max_element\n",
        "\n",
        "input_list = [[1, 2, 3, 4], [4, 5, [6, 7], 8], [9, 10, 11]]\n",
        "print(\"The original list:\", input_list)\n",
        "result = find_max(input_list)\n",
        "print(\"The maximum element in the nested list:\", result)\n"
      ],
      "metadata": {
        "colab": {
          "base_uri": "https://localhost:8080/"
        },
        "id": "BkLkCQwj24hC",
        "outputId": "cbecead9-5bfe-4460-9654-25d273d6a6d4"
      },
      "execution_count": 22,
      "outputs": [
        {
          "output_type": "stream",
          "name": "stdout",
          "text": [
            "The original list: [[1, 2, 3, 4], [4, 5, [6, 7], 8], [9, 10, 11]]\n",
            "The maximum element in the nested list: 11\n"
          ]
        }
      ]
    },
    {
      "cell_type": "markdown",
      "source": [
        "6. Count Occurrences of an Element in a Nested List:\n",
        "\n",
        "  Write a Python function that counts how many times a specific element appears in a nested list.\n",
        "\n",
        "* Requirements:\n",
        "\n",
        "  – Define a function count occurrences(lst, elem) that counts the occurrences of elem in\n",
        "  the nested list lst.\n",
        "  \n",
        "  – Example: For the input lst = [[1, 2], [2, 3], [2, 4]] and elem = 2, the output should\n",
        "  be 3."
      ],
      "metadata": {
        "id": "UBDj75Je26k3"
      }
    },
    {
      "cell_type": "code",
      "source": [
        "def count_occurrences(lst, elem):\n",
        "    \"\"\"\n",
        "    Counting how many times a specific element appears in a nested list.\n",
        "    \"\"\"\n",
        "    count = 0\n",
        "    for item in lst:\n",
        "        if isinstance(item, list):\n",
        "            count += count_occurrences(item, elem)\n",
        "        else:\n",
        "            if item == elem:\n",
        "                count += 1\n",
        "    return count\n",
        "\n",
        "input_list = [[1, 2, 4], [4, 5, [6, 4], 8], [9, 4, 10]]\n",
        "element = 4\n",
        "print(\"The original list:\", input_list)\n",
        "result = count_occurrences(input_list, element)\n",
        "print(f\"The element {element} appears {result} times in the nested list.\")"
      ],
      "metadata": {
        "colab": {
          "base_uri": "https://localhost:8080/"
        },
        "id": "dnvon4e228GF",
        "outputId": "5413bb53-6ff9-4266-84fa-b155996a28fb"
      },
      "execution_count": 23,
      "outputs": [
        {
          "output_type": "stream",
          "name": "stdout",
          "text": [
            "The original list: [[1, 2, 4], [4, 5, [6, 4], 8], [9, 4, 10]]\n",
            "The element 4 appears 4 times in the nested list.\n"
          ]
        }
      ]
    },
    {
      "cell_type": "markdown",
      "source": [
        "7. Flatten a List of Lists of Lists:\n",
        "\n",
        "  Write a Python function that flattens a list of lists of lists into a single list, regardless of the depth.\n",
        "\n",
        "* Requirements:\n",
        "\n",
        "  – Define a function deep flatten(lst) that takes a deeply nested list lst and returns a single\n",
        "  flattened list.\n",
        "  \n",
        "  – Example: For the input [[[1, 2], [3, 4]], [[5, 6], [7, 8]]], the output should be\n",
        "  [1, 2, 3, 4, 5, 6, 7, 8]."
      ],
      "metadata": {
        "id": "Gj1DaH782-aN"
      }
    },
    {
      "cell_type": "code",
      "source": [
        "def deep_flatten(lst):\n",
        "    \"\"\"\n",
        "    Flattens a deeply nested list into a single list.\n",
        "    \"\"\"\n",
        "    flattened_list = []\n",
        "    for item in lst:\n",
        "        if isinstance(item, list):\n",
        "            flattened_list.extend(deep_flatten(item))\n",
        "        else:\n",
        "            flattened_list.append(item)\n",
        "    return flattened_list\n",
        "\n",
        "input_list = [[1, 2, 3], [4, 5, [6, 7]], [8, 9, 10]]\n",
        "print(\"The original list:\", input_list)\n",
        "result = deep_flatten(input_list)\n",
        "print(\"The flattened list:\", result)\n"
      ],
      "metadata": {
        "id": "7wJpc90n3BKr"
      },
      "execution_count": null,
      "outputs": []
    },
    {
      "cell_type": "markdown",
      "source": [
        "8. Nested List Average:\n",
        "\n",
        "  Write a Python function that calculates the average of all elements in a nested list.\n",
        "\n",
        "* Requirements:\n",
        "\n",
        "  – Define a function average nested(lst) that takes a nested list lst and returns the average\n",
        "  of all the elements.\n",
        "  \n",
        "  – Example: For the input [[1, 2], [3, 4], [5, 6]], the output should be 3.5."
      ],
      "metadata": {
        "id": "-KxOeWSZ3CsZ"
      }
    },
    {
      "cell_type": "code",
      "source": [
        "def average_nested(lst):\n",
        "    \"\"\"\n",
        "    Function to calculate the average of all elements in a nested list.\n",
        "    \"\"\"\n",
        "    total = 0\n",
        "    count = 0\n",
        "    for item in lst:\n",
        "        if isinstance(item, list):\n",
        "            nested_total, nested_count = average_nested(item)\n",
        "            total += nested_total\n",
        "            count += nested_count\n",
        "        else:\n",
        "            total += item\n",
        "            count += 1\n",
        "\n",
        "    return total, count\n",
        "\n",
        "total, count = average_nested([[1, 2], [3, 4], [5, 6]])\n",
        "average = total / count if count > 0 else 0\n",
        "print(\"The average of all the elements in the nested list is:\",average)"
      ],
      "metadata": {
        "colab": {
          "base_uri": "https://localhost:8080/"
        },
        "id": "8hBnFZAM3D-u",
        "outputId": "18ef254f-86d4-4f09-8bba-683ae9e7022c"
      },
      "execution_count": 24,
      "outputs": [
        {
          "output_type": "stream",
          "name": "stdout",
          "text": [
            "The average of all the elements in the nested list is: 3.5\n"
          ]
        }
      ]
    },
    {
      "cell_type": "markdown",
      "source": [
        "#**To - Do - NumPy**"
      ],
      "metadata": {
        "id": "yiiieK_U3GNK"
      }
    },
    {
      "cell_type": "markdown",
      "source": [
        "#**10.1.Basic Vector and Matrix Operation with Numpy**"
      ],
      "metadata": {
        "id": "Fpq_uMMy3KjB"
      }
    },
    {
      "cell_type": "markdown",
      "source": [
        "#Problem - 1: Array Creation:\n",
        "\n"
      ],
      "metadata": {
        "id": "tngkfC4-3LpE"
      }
    },
    {
      "cell_type": "code",
      "source": [
        "import numpy as np"
      ],
      "metadata": {
        "id": "Zqdt5z9r3Ovx"
      },
      "execution_count": 25,
      "outputs": []
    },
    {
      "cell_type": "markdown",
      "source": [
        "1. Initialize an empty array with size 2X2."
      ],
      "metadata": {
        "id": "0SOqhDQw3SGB"
      }
    },
    {
      "cell_type": "code",
      "source": [
        "empty_array = np.empty((2, 2), dtype=int)\n",
        "print(\"The empty array:\\n\",empty_array)"
      ],
      "metadata": {
        "colab": {
          "base_uri": "https://localhost:8080/"
        },
        "id": "iBRdZmvP3S7H",
        "outputId": "b7e5b554-ebe4-442b-f3ec-601b3a936647"
      },
      "execution_count": 26,
      "outputs": [
        {
          "output_type": "stream",
          "name": "stdout",
          "text": [
            "The empty array:\n",
            " [[30442374        0]\n",
            " [       0       49]]\n"
          ]
        }
      ]
    },
    {
      "cell_type": "markdown",
      "source": [
        "2. Initialize an all one array with size 4X2."
      ],
      "metadata": {
        "id": "CQqOD9U13UUi"
      }
    },
    {
      "cell_type": "code",
      "source": [
        "one_array = np.ones((4,2), dtype=int)\n",
        "print(\"The array filled with ones:\\n\",one_array)"
      ],
      "metadata": {
        "colab": {
          "base_uri": "https://localhost:8080/"
        },
        "id": "07uDuWse3X5J",
        "outputId": "ebe3e9e0-7692-4c68-f097-2eefbf00e04c"
      },
      "execution_count": 27,
      "outputs": [
        {
          "output_type": "stream",
          "name": "stdout",
          "text": [
            "The array filled with ones:\n",
            " [[1 1]\n",
            " [1 1]\n",
            " [1 1]\n",
            " [1 1]]\n"
          ]
        }
      ]
    },
    {
      "cell_type": "markdown",
      "source": [
        "3. Return a new array of given shape and type, filled with fill value.{Hint: np.full}\n"
      ],
      "metadata": {
        "id": "f7Qg502u3Z_j"
      }
    },
    {
      "cell_type": "code",
      "source": [
        "array = np.full((3, 2), 8, dtype=int)\n",
        "print(\"Array filled with 8:\\n\", array)"
      ],
      "metadata": {
        "colab": {
          "base_uri": "https://localhost:8080/"
        },
        "id": "eghp-Q5v3bdV",
        "outputId": "c9bbb9e6-462e-4f11-ddb6-2e1586d91fa4"
      },
      "execution_count": 28,
      "outputs": [
        {
          "output_type": "stream",
          "name": "stdout",
          "text": [
            "Array filled with 8:\n",
            " [[8 8]\n",
            " [8 8]\n",
            " [8 8]]\n"
          ]
        }
      ]
    },
    {
      "cell_type": "markdown",
      "source": [
        "4. Return a new array of zeros with same shape and type as a given array.{Hint: np.zeros like}"
      ],
      "metadata": {
        "id": "bVGmXROy3fjx"
      }
    },
    {
      "cell_type": "code",
      "source": [
        "#The \"array\" was given above.\n",
        "new_array = np.zeros_like(array)\n",
        "print(\"The new array of zeros:\\n\", new_array)"
      ],
      "metadata": {
        "colab": {
          "base_uri": "https://localhost:8080/"
        },
        "id": "C-hIvCY-3gHu",
        "outputId": "1775578f-0bec-4706-942c-a1f294546273"
      },
      "execution_count": 29,
      "outputs": [
        {
          "output_type": "stream",
          "name": "stdout",
          "text": [
            "The new array of zeros:\n",
            " [[0 0]\n",
            " [0 0]\n",
            " [0 0]]\n"
          ]
        }
      ]
    },
    {
      "cell_type": "markdown",
      "source": [
        "5. Return a new array of ones with same shape and type as a given array.{Hint: np.ones like}"
      ],
      "metadata": {
        "id": "BvNLHfI53hoE"
      }
    },
    {
      "cell_type": "code",
      "source": [
        "#The \"array\" was given above.\n",
        "new_array = np.ones_like(array)\n",
        "print(\"The new array of zeros:\\n\", new_array)"
      ],
      "metadata": {
        "colab": {
          "base_uri": "https://localhost:8080/"
        },
        "id": "ndq7_nrU3kiT",
        "outputId": "4866a489-9a01-482d-c986-92e895f3869a"
      },
      "execution_count": 30,
      "outputs": [
        {
          "output_type": "stream",
          "name": "stdout",
          "text": [
            "The new array of zeros:\n",
            " [[1 1]\n",
            " [1 1]\n",
            " [1 1]]\n"
          ]
        }
      ]
    },
    {
      "cell_type": "markdown",
      "source": [
        "6. For an existing list new_list = [1,2,3,4] convert to an numpy array.{Hint: np.array()}"
      ],
      "metadata": {
        "id": "QoYFcrhL3oF5"
      }
    },
    {
      "cell_type": "code",
      "source": [
        "new_list = [1, 2, 3, 4]\n",
        "new_array = np.array(new_list)\n",
        "print(\"The converted NumPy array:\\n\", new_array)\n",
        "print(\"The type of array: \", type(new_array))"
      ],
      "metadata": {
        "colab": {
          "base_uri": "https://localhost:8080/"
        },
        "id": "YjoIwhS73opU",
        "outputId": "5db5f997-240d-49b6-f8e3-db5f7b55b8a1"
      },
      "execution_count": 31,
      "outputs": [
        {
          "output_type": "stream",
          "name": "stdout",
          "text": [
            "The converted NumPy array:\n",
            " [1 2 3 4]\n",
            "The type of array:  <class 'numpy.ndarray'>\n"
          ]
        }
      ]
    },
    {
      "cell_type": "markdown",
      "source": [
        "#Problem - 2: Array Manipulation: Numerical Ranges and Array indexing:"
      ],
      "metadata": {
        "id": "QRL-R6eW3qRu"
      }
    },
    {
      "cell_type": "markdown",
      "source": [
        "1. Create an array with values ranging from 10 to 49. {Hint:np.arrange()}."
      ],
      "metadata": {
        "id": "U5CuuFmD3wHq"
      }
    },
    {
      "cell_type": "code",
      "source": [
        "array = np.arange(10, 50)\n",
        "print(\"The array with values ranging from 10 to 49:\\n\", array)"
      ],
      "metadata": {
        "colab": {
          "base_uri": "https://localhost:8080/"
        },
        "id": "6cZjNK_L3wnL",
        "outputId": "ffb0a527-528b-488a-e000-416be4a5a8ea"
      },
      "execution_count": 32,
      "outputs": [
        {
          "output_type": "stream",
          "name": "stdout",
          "text": [
            "The array with values ranging from 10 to 49:\n",
            " [10 11 12 13 14 15 16 17 18 19 20 21 22 23 24 25 26 27 28 29 30 31 32 33\n",
            " 34 35 36 37 38 39 40 41 42 43 44 45 46 47 48 49]\n"
          ]
        }
      ]
    },
    {
      "cell_type": "markdown",
      "source": [
        "2. Create a 3X3 matrix with values ranging from 0 to 8.\n",
        "{Hint:look for np.reshape()}"
      ],
      "metadata": {
        "id": "JA1op9DT3yFt"
      }
    },
    {
      "cell_type": "code",
      "source": [
        "matrix = np.arange(9).reshape(3, 3)\n",
        "print(\"The 3x3 Matrix with values ranging from 0 to 8:\\n\", matrix)"
      ],
      "metadata": {
        "colab": {
          "base_uri": "https://localhost:8080/"
        },
        "id": "H_W0hWvq30qk",
        "outputId": "7f2d91b3-e8f5-4c33-9319-3b151fbc5f72"
      },
      "execution_count": 33,
      "outputs": [
        {
          "output_type": "stream",
          "name": "stdout",
          "text": [
            "The 3x3 Matrix with values ranging from 0 to 8:\n",
            " [[0 1 2]\n",
            " [3 4 5]\n",
            " [6 7 8]]\n"
          ]
        }
      ]
    },
    {
      "cell_type": "markdown",
      "source": [
        "3. Create a 3X3 identity matrix.{Hint:np.eye()}"
      ],
      "metadata": {
        "id": "_ROyJTGd32-f"
      }
    },
    {
      "cell_type": "code",
      "source": [
        "matrix = np.eye(3, dtype=int)\n",
        "print(\"The 3X3 identity matrix: \\n\", matrix)"
      ],
      "metadata": {
        "colab": {
          "base_uri": "https://localhost:8080/"
        },
        "id": "XnDTXFKg32Xj",
        "outputId": "2f9ca99f-f949-445c-c19c-01f61ad0a3a0"
      },
      "execution_count": 34,
      "outputs": [
        {
          "output_type": "stream",
          "name": "stdout",
          "text": [
            "The 3X3 identity matrix: \n",
            " [[1 0 0]\n",
            " [0 1 0]\n",
            " [0 0 1]]\n"
          ]
        }
      ]
    },
    {
      "cell_type": "markdown",
      "source": [
        "4. Create a random array of size 30 and find the mean of the array.\n",
        "{Hint:check for np.random.random() and array.mean() function}"
      ],
      "metadata": {
        "id": "yEI5pk3436lc"
      }
    },
    {
      "cell_type": "code",
      "source": [
        "random_array = np.random.random(30)\n",
        "mean_value = random_array.mean()\n",
        "\n",
        "print(\"The random Array:\\n\", random_array)\n",
        "print(\"\\nThe mean of the array:\", mean_value)"
      ],
      "metadata": {
        "colab": {
          "base_uri": "https://localhost:8080/"
        },
        "id": "fFSoTuhg38cd",
        "outputId": "19888272-b0ce-432e-f791-3e8a2e65dcce"
      },
      "execution_count": 35,
      "outputs": [
        {
          "output_type": "stream",
          "name": "stdout",
          "text": [
            "The random Array:\n",
            " [0.15602641 0.06756873 0.92394298 0.92398689 0.25501398 0.81205496\n",
            " 0.88940331 0.06787881 0.53931643 0.99310092 0.87745041 0.3988853\n",
            " 0.97789686 0.21053944 0.62459059 0.59230403 0.84413331 0.26813312\n",
            " 0.82938255 0.5939052  0.55691388 0.14837204 0.9656445  0.12761033\n",
            " 0.23964546 0.87342872 0.75643402 0.47686161 0.49854633 0.71334125]\n",
            "\n",
            "The mean of the array: 0.5734104121237755\n"
          ]
        }
      ]
    },
    {
      "cell_type": "markdown",
      "source": [
        "5. Create a 10X10 array with random values and find the minimum and maximum values."
      ],
      "metadata": {
        "id": "ftLupv6u3-Ss"
      }
    },
    {
      "cell_type": "code",
      "source": [
        "random_array = np.random.random((10, 10))\n",
        "print(f\"The 10*10 array with random values:\\n{random_array}\")\n",
        "\n",
        "min_value = random_array.min()\n",
        "max_value = random_array.max()\n",
        "print(f\"\\nMinimum Values:{min_value}\")\n",
        "print(f\"\\nMaximum Values:{max_value}\")\n"
      ],
      "metadata": {
        "colab": {
          "base_uri": "https://localhost:8080/"
        },
        "id": "7SCKsCEC391X",
        "outputId": "0b458dfa-146c-4800-d9ed-f4aa0535baac"
      },
      "execution_count": 36,
      "outputs": [
        {
          "output_type": "stream",
          "name": "stdout",
          "text": [
            "The 10*10 array with random values:\n",
            "[[0.21119611 0.36514065 0.37208795 0.2808098  0.0571875  0.31212312\n",
            "  0.11448686 0.53191141 0.27512098 0.7132498 ]\n",
            " [0.47651269 0.93565023 0.92780549 0.24084613 0.2581126  0.89118781\n",
            "  0.43936634 0.69062094 0.9798998  0.78235915]\n",
            " [0.78540419 0.96003363 0.74499406 0.15145296 0.84672438 0.29164122\n",
            "  0.85819943 0.60786615 0.14100398 0.63479189]\n",
            " [0.2915649  0.367526   0.15722357 0.52682414 0.88501184 0.16289421\n",
            "  0.79956376 0.22306098 0.51950583 0.57411348]\n",
            " [0.58082973 0.11880756 0.51573869 0.35889449 0.11200965 0.86976385\n",
            "  0.21961895 0.78337249 0.65652373 0.07588495]\n",
            " [0.78620611 0.50484936 0.06000004 0.751105   0.32484465 0.31268597\n",
            "  0.82856803 0.1802886  0.02451012 0.03625696]\n",
            " [0.86219915 0.06712959 0.96687339 0.75948449 0.04328902 0.91050019\n",
            "  0.74806302 0.83896232 0.27522441 0.36568437]\n",
            " [0.97479154 0.26561226 0.12944228 0.92908794 0.10477769 0.15947788\n",
            "  0.28936259 0.71992485 0.84717527 0.04867307]\n",
            " [0.35656198 0.65927952 0.85376886 0.96800105 0.86349894 0.18618927\n",
            "  0.41913089 0.92954405 0.6035611  0.69645045]\n",
            " [0.57911561 0.73153485 0.56676023 0.73510642 0.84860112 0.37845438\n",
            "  0.79876868 0.85672647 0.55826963 0.70501259]]\n",
            "\n",
            "Minimum Values:0.02451012294647159\n",
            "\n",
            "Maximum Values:0.9798997991618071\n"
          ]
        }
      ]
    },
    {
      "cell_type": "markdown",
      "source": [
        "6. Create a zero array of size 10 and replace 5th element with 1."
      ],
      "metadata": {
        "id": "eZuAC-wP4D0E"
      }
    },
    {
      "cell_type": "code",
      "source": [
        "zero_array = np.zeros(10, dtype=int)\n",
        "zero_array[4] = 1\n",
        "print(\"The zero array with 5th element replaced by 1:\\n\",zero_array)"
      ],
      "metadata": {
        "colab": {
          "base_uri": "https://localhost:8080/"
        },
        "id": "VEAM_mJ04ELZ",
        "outputId": "91ac4e02-29c8-4287-ad2c-c8e147179444"
      },
      "execution_count": 37,
      "outputs": [
        {
          "output_type": "stream",
          "name": "stdout",
          "text": [
            "The zero array with 5th element replaced by 1:\n",
            " [0 0 0 0 1 0 0 0 0 0]\n"
          ]
        }
      ]
    },
    {
      "cell_type": "markdown",
      "source": [
        "7. Reverse an array arr = [1,2,0,0,4,0]."
      ],
      "metadata": {
        "id": "uqvM-WGw4Gi0"
      }
    },
    {
      "cell_type": "code",
      "source": [
        "array = [1,2,0,0,4,0]\n",
        "reversed_array = array[::-1]\n",
        "print(\"The original array:\",array)\n",
        "print(\"The reversed array:\",reversed_array)"
      ],
      "metadata": {
        "colab": {
          "base_uri": "https://localhost:8080/"
        },
        "id": "nHXCIr434FyF",
        "outputId": "e5a21d56-410e-445a-a46f-2a7d5db56eb4"
      },
      "execution_count": 38,
      "outputs": [
        {
          "output_type": "stream",
          "name": "stdout",
          "text": [
            "The original array: [1, 2, 0, 0, 4, 0]\n",
            "The reversed array: [0, 4, 0, 0, 2, 1]\n"
          ]
        }
      ]
    },
    {
      "cell_type": "markdown",
      "source": [
        "8. Create a 2d array with 1 on border and 0 inside."
      ],
      "metadata": {
        "id": "f53W3_354J8Q"
      }
    },
    {
      "cell_type": "code",
      "source": [
        "array = np.ones((5,5), dtype=int)\n",
        "array[1:-1,1:-1] = 0\n",
        "print(\"The 2d array with 1 on border and 0 inside:\\n\",array)"
      ],
      "metadata": {
        "colab": {
          "base_uri": "https://localhost:8080/"
        },
        "id": "RcfWaUx44JfD",
        "outputId": "9146695c-c787-4ff8-9212-85a6721ecafb"
      },
      "execution_count": 39,
      "outputs": [
        {
          "output_type": "stream",
          "name": "stdout",
          "text": [
            "The 2d array with 1 on border and 0 inside:\n",
            " [[1 1 1 1 1]\n",
            " [1 0 0 0 1]\n",
            " [1 0 0 0 1]\n",
            " [1 0 0 0 1]\n",
            " [1 1 1 1 1]]\n"
          ]
        }
      ]
    },
    {
      "cell_type": "markdown",
      "source": [
        "9. Create a 8X8 matrix and fill it with a checkerboard pattern."
      ],
      "metadata": {
        "id": "zsVLadRx4N9i"
      }
    },
    {
      "cell_type": "code",
      "source": [
        "checkerboard = np.zeros((8, 8), dtype=int)\n",
        "checkerboard[1::2, ::2] = 1  # Set 1s in odd rows, even columns\n",
        "checkerboard[::2, 1::2] = 1  # Set 1s in even rows, odd columns\n",
        "print(\"\\nThe 8x8 Checkerboard Matrix:\\n\", checkerboard)"
      ],
      "metadata": {
        "colab": {
          "base_uri": "https://localhost:8080/"
        },
        "id": "r0JIOTXx4NZE",
        "outputId": "b7302354-9498-4571-bf3e-50a2dbb2bc05"
      },
      "execution_count": 40,
      "outputs": [
        {
          "output_type": "stream",
          "name": "stdout",
          "text": [
            "\n",
            "The 8x8 Checkerboard Matrix:\n",
            " [[0 1 0 1 0 1 0 1]\n",
            " [1 0 1 0 1 0 1 0]\n",
            " [0 1 0 1 0 1 0 1]\n",
            " [1 0 1 0 1 0 1 0]\n",
            " [0 1 0 1 0 1 0 1]\n",
            " [1 0 1 0 1 0 1 0]\n",
            " [0 1 0 1 0 1 0 1]\n",
            " [1 0 1 0 1 0 1 0]]\n"
          ]
        }
      ]
    },
    {
      "cell_type": "markdown",
      "source": [
        "#Problem - 3: Array Operations:"
      ],
      "metadata": {
        "id": "v-bn74FB4TlK"
      }
    },
    {
      "cell_type": "markdown",
      "source": [
        "For the following arrays:\n",
        "\n",
        "x = np.array([[1,2],[3,5]]) and y = np.array([[5,6],[7,8]]);\n",
        "\n",
        "v = np.array([9,10]) and w = np.array([11,12]);"
      ],
      "metadata": {
        "id": "-RSHF_kt4V6Z"
      }
    },
    {
      "cell_type": "code",
      "source": [
        "x = np.array([[1,2],[3,5]])\n",
        "y = np.array([[5,6],[7,8]])\n",
        "v = np.array([9,10])\n",
        "w = np.array([11,12])"
      ],
      "metadata": {
        "id": "8vB0TRa14XW3"
      },
      "execution_count": 41,
      "outputs": []
    },
    {
      "cell_type": "markdown",
      "source": [
        "1. Add the two array."
      ],
      "metadata": {
        "id": "LuWyrqC14ZBn"
      }
    },
    {
      "cell_type": "code",
      "source": [
        "print(\"Sum of 2D arrays x and y:\")\n",
        "add_xy = np.add(x, y)\n",
        "print(add_xy)\n",
        "\n",
        "print(\"\\nSum of 1D arrays v and w:\")\n",
        "add_vw = np.add(v, w)\n",
        "print(add_vw)"
      ],
      "metadata": {
        "colab": {
          "base_uri": "https://localhost:8080/"
        },
        "id": "F-5r95i84Ysk",
        "outputId": "ce65f299-a583-45c8-d81b-f5eff85a1659"
      },
      "execution_count": 42,
      "outputs": [
        {
          "output_type": "stream",
          "name": "stdout",
          "text": [
            "Sum of 2D arrays x and y:\n",
            "[[ 6  8]\n",
            " [10 13]]\n",
            "\n",
            "Sum of 1D arrays v and w:\n",
            "[20 22]\n"
          ]
        }
      ]
    },
    {
      "cell_type": "markdown",
      "source": [
        "2. Subtract the two array."
      ],
      "metadata": {
        "id": "WrgpFUCZ4cVF"
      }
    },
    {
      "cell_type": "code",
      "source": [
        "print(\"Subtraction of 2D arrays x and y:\")\n",
        "subtract_xy = np.subtract(x, y)\n",
        "print(subtract_xy)\n",
        "\n",
        "print(\"\\nSubtraction of 1D arrays v and w:\")\n",
        "subtract_vw = np.subtract(v, w)\n",
        "print(subtract_vw)"
      ],
      "metadata": {
        "colab": {
          "base_uri": "https://localhost:8080/"
        },
        "id": "H7xnGkJr4b1W",
        "outputId": "199900f2-a52a-4a18-9d51-21b6ac7e6436"
      },
      "execution_count": 43,
      "outputs": [
        {
          "output_type": "stream",
          "name": "stdout",
          "text": [
            "Subtraction of 2D arrays x and y:\n",
            "[[-4 -4]\n",
            " [-4 -3]]\n",
            "\n",
            "Subtraction of 1D arrays v and w:\n",
            "[-2 -2]\n"
          ]
        }
      ]
    },
    {
      "cell_type": "markdown",
      "source": [
        "3. Multiply the array with any integers of your choice."
      ],
      "metadata": {
        "id": "50QqXq5o4gnz"
      }
    },
    {
      "cell_type": "code",
      "source": [
        "print(\"Multiplication of 2D arrays (x): \")\n",
        "multiply_x = np.dot(x,6)\n",
        "print(multiply_x)\n",
        "\n",
        "print(\"\\nMultiplication of 1D arrays (v): \")\n",
        "multiply_v = np.dot(v,6)\n",
        "print(multiply_v)"
      ],
      "metadata": {
        "colab": {
          "base_uri": "https://localhost:8080/"
        },
        "id": "mb-46lmQ4ft0",
        "outputId": "faa5fb2e-f42a-4f3b-a084-fce929e67c00"
      },
      "execution_count": 44,
      "outputs": [
        {
          "output_type": "stream",
          "name": "stdout",
          "text": [
            "Multiplication of 2D arrays (x): \n",
            "[[ 6 12]\n",
            " [18 30]]\n",
            "\n",
            "Multiplication of 1D arrays (v): \n",
            "[54 60]\n"
          ]
        }
      ]
    },
    {
      "cell_type": "markdown",
      "source": [
        "4. Find the square of each element of the array."
      ],
      "metadata": {
        "id": "TernLBm34lfA"
      }
    },
    {
      "cell_type": "code",
      "source": [
        "print(\"Square of 2D arrays (x):\")\n",
        "square_result = x ** 2\n",
        "print(square_result)\n",
        "\n",
        "print(\"\\nSquare of 2D arrays (y):\")\n",
        "square_result = y ** 2\n",
        "print(square_result)\n",
        "\n",
        "print(\"\\nSquare of 1D arrays (v):\")\n",
        "square_result = v ** 2\n",
        "print(square_result)\n",
        "\n",
        "print(\"\\nSquare of 1D arrays (w):\")\n",
        "square_result = w ** 2\n",
        "print(square_result)\n",
        "\n"
      ],
      "metadata": {
        "colab": {
          "base_uri": "https://localhost:8080/"
        },
        "id": "KqaYasfn4jke",
        "outputId": "53e8fa28-228b-4164-db07-8dee8784cbaf"
      },
      "execution_count": 45,
      "outputs": [
        {
          "output_type": "stream",
          "name": "stdout",
          "text": [
            "Square of 2D arrays (x):\n",
            "[[ 1  4]\n",
            " [ 9 25]]\n",
            "\n",
            "Square of 2D arrays (y):\n",
            "[[25 36]\n",
            " [49 64]]\n",
            "\n",
            "Square of 1D arrays (v):\n",
            "[ 81 100]\n",
            "\n",
            "Square of 1D arrays (w):\n",
            "[121 144]\n"
          ]
        }
      ]
    },
    {
      "cell_type": "markdown",
      "source": [
        "5. Find the dot product between: v(and)w ; x(and)v ; x(and)y."
      ],
      "metadata": {
        "id": "DmGFWGGF4r0u"
      }
    },
    {
      "cell_type": "code",
      "source": [
        "dot_product_vw = np.dot(v, w)\n",
        "print(\"Dot product of v and w:\", dot_product_vw)\n",
        "dot_product_xv = np.dot(x, v)\n",
        "print(\"\\nDot product of x and v:\", dot_product_xv)\n",
        "dot_product_xy = np.dot(x, y)\n",
        "print(\"\\nDot product of x and y:\\n\", dot_product_xy)"
      ],
      "metadata": {
        "colab": {
          "base_uri": "https://localhost:8080/"
        },
        "id": "CFu_74054nIl",
        "outputId": "980a7262-a4ad-4005-82ed-6ddf65daebf3"
      },
      "execution_count": 46,
      "outputs": [
        {
          "output_type": "stream",
          "name": "stdout",
          "text": [
            "Dot product of v and w: 219\n",
            "\n",
            "Dot product of x and v: [29 77]\n",
            "\n",
            "Dot product of x and y:\n",
            " [[19 22]\n",
            " [50 58]]\n"
          ]
        }
      ]
    },
    {
      "cell_type": "markdown",
      "source": [
        "6. Concatenate x(and)y along row and Concatenate v(and)w along column.\n",
        "{Hint:try np.concatenate() or np.vstack() functions."
      ],
      "metadata": {
        "id": "uNLc4YVb4uUG"
      }
    },
    {
      "cell_type": "code",
      "source": [
        "concat_rows = np.vstack((x, y))\n",
        "print(\"Concatenation of x and y along rows:\\n\", concat_rows)\n",
        "\n",
        "concat_columns = np.hstack((v, w))\n",
        "print(\"\\nConcatenation of v and w along columns:\\n\", concat_columns)"
      ],
      "metadata": {
        "colab": {
          "base_uri": "https://localhost:8080/"
        },
        "id": "0dScRLUA4toY",
        "outputId": "44571862-2bf5-415f-9e39-f3c639927bb0"
      },
      "execution_count": 47,
      "outputs": [
        {
          "output_type": "stream",
          "name": "stdout",
          "text": [
            "Concatenation of x and y along rows:\n",
            " [[1 2]\n",
            " [3 5]\n",
            " [5 6]\n",
            " [7 8]]\n",
            "\n",
            "Concatenation of v and w along columns:\n",
            " [ 9 10 11 12]\n"
          ]
        }
      ]
    },
    {
      "cell_type": "markdown",
      "source": [
        "7. Concatenate x(and)v; if you get an error, observe and explain why did you get the error?"
      ],
      "metadata": {
        "id": "VT1xIBjb4xN3"
      }
    },
    {
      "cell_type": "code",
      "source": [
        "try:\n",
        "    concat_error = np.concatenate((x, v))\n",
        "except ValueError as e:\n",
        "    print(\"\\nError when concatenating x and v:\")\n",
        "    print(e)\n",
        "\n",
        "# Fix the error by reshaping v into a 2D array\n",
        "v_reshaped = v.reshape(1, -1)\n",
        "concat_fixed = np.concatenate((x, v_reshaped), axis=0)\n",
        "print(\"\\nConcatenation of x and reshaped v:\\n\", concat_fixed)"
      ],
      "metadata": {
        "colab": {
          "base_uri": "https://localhost:8080/"
        },
        "id": "OMojC9Cc40GB",
        "outputId": "b201c2ee-39ff-4ee5-8bda-2c49617802aa"
      },
      "execution_count": 48,
      "outputs": [
        {
          "output_type": "stream",
          "name": "stdout",
          "text": [
            "\n",
            "Error when concatenating x and v:\n",
            "all the input arrays must have same number of dimensions, but the array at index 0 has 2 dimension(s) and the array at index 1 has 1 dimension(s)\n",
            "\n",
            "Concatenation of x and reshaped v:\n",
            " [[ 1  2]\n",
            " [ 3  5]\n",
            " [ 9 10]]\n"
          ]
        }
      ]
    },
    {
      "cell_type": "markdown",
      "source": [
        "# Problem - 4: Matrix Operations:"
      ],
      "metadata": {
        "id": "7XeaK_5T43Gm"
      }
    },
    {
      "cell_type": "markdown",
      "source": [
        "• For the following arrays:\n",
        "\n",
        "A = np.array([[3,4],[7,8]]) and B = np.array([[5,3],[2,1]]);\n",
        "\n",
        "Prove following with Numpy:\n"
      ],
      "metadata": {
        "id": "aQOSiPY-44te"
      }
    },
    {
      "cell_type": "code",
      "source": [
        "A = np.array([[3, 4], [7, 8]])\n",
        "B = np.array([[5, 3], [2, 1]])"
      ],
      "metadata": {
        "id": "6x1r6wHX41SH"
      },
      "execution_count": 49,
      "outputs": []
    },
    {
      "cell_type": "markdown",
      "source": [
        "1. Prove A.A−1 = I.\n"
      ],
      "metadata": {
        "id": "aHm1oUN-476K"
      }
    },
    {
      "cell_type": "code",
      "source": [
        "A_inverse = np.linalg.inv(A)\n",
        "\n",
        "# Multiply A by its inverse\n",
        "result = np.dot(A, A_inverse)\n",
        "print(f\"A * A inverse:\\n{np.round(result)}\")\n",
        "\n",
        "# Check if the result is the identity matrix\n",
        "identity_matrix = np.eye(2)\n",
        "print(\"\\nIdentity Matrix:\\n\", identity_matrix)\n",
        "print(\"\\nIs A * A inverse equal to Identity Matrix?\", np.allclose(result, identity_matrix))"
      ],
      "metadata": {
        "colab": {
          "base_uri": "https://localhost:8080/"
        },
        "id": "IWmsHUJb46bh",
        "outputId": "de0c6920-d329-4718-8309-d83797cc7619"
      },
      "execution_count": 50,
      "outputs": [
        {
          "output_type": "stream",
          "name": "stdout",
          "text": [
            "A * A inverse:\n",
            "[[1. 0.]\n",
            " [0. 1.]]\n",
            "\n",
            "Identity Matrix:\n",
            " [[1. 0.]\n",
            " [0. 1.]]\n",
            "\n",
            "Is A * A inverse equal to Identity Matrix? True\n"
          ]
        }
      ]
    },
    {
      "cell_type": "markdown",
      "source": [
        "2. Prove AB ̸= BA."
      ],
      "metadata": {
        "id": "9G9uXGIO4_G2"
      }
    },
    {
      "cell_type": "code",
      "source": [
        "dot_product_AB = np.dot(A, B)\n",
        "dot_product_BA = np.dot(B, A)\n",
        "\n",
        "# Compare AB and BA\n",
        "print(\"AB:\\n\", dot_product_AB)\n",
        "print(\"\\nBA:\\n\", dot_product_BA)\n",
        "print(\"\\nIs AB equal to BA?\", np.allclose(dot_product_AB, dot_product_BA))"
      ],
      "metadata": {
        "colab": {
          "base_uri": "https://localhost:8080/"
        },
        "id": "nUSB3mO_4-e6",
        "outputId": "25c93781-82af-41b2-8348-1a93ae8c293d"
      },
      "execution_count": 51,
      "outputs": [
        {
          "output_type": "stream",
          "name": "stdout",
          "text": [
            "AB:\n",
            " [[23 13]\n",
            " [51 29]]\n",
            "\n",
            "BA:\n",
            " [[36 44]\n",
            " [13 16]]\n",
            "\n",
            "Is AB equal to BA? False\n"
          ]
        }
      ]
    },
    {
      "cell_type": "markdown",
      "source": [
        "3. Prove (AB)^T = B^TA^T"
      ],
      "metadata": {
        "id": "AKi6i7m45C_h"
      }
    },
    {
      "cell_type": "code",
      "source": [
        "AB_Trans = np.transpose(np.dot(A, B))\n",
        "B_Trans_A_Trans = np.dot(np.transpose(B), np.transpose(A))\n",
        "\n",
        "# Compare (AB)^T and B^T A^T\n",
        "print(\"\\n(AB)^T:\\n\", AB_Trans)\n",
        "print(\"\\nB^T A^T:\\n\", B_Trans_A_Trans)\n",
        "print(\"\\nIs (AB)^T equal to B^T A^T?\", np.allclose(AB_Trans, B_Trans_A_Trans))"
      ],
      "metadata": {
        "colab": {
          "base_uri": "https://localhost:8080/"
        },
        "id": "cD4jPaKv5Ca4",
        "outputId": "73bc32b4-3531-47f8-d135-a91cb3ba1861"
      },
      "execution_count": 52,
      "outputs": [
        {
          "output_type": "stream",
          "name": "stdout",
          "text": [
            "\n",
            "(AB)^T:\n",
            " [[23 51]\n",
            " [13 29]]\n",
            "\n",
            "B^T A^T:\n",
            " [[23 51]\n",
            " [13 29]]\n",
            "\n",
            "Is (AB)^T equal to B^T A^T? True\n"
          ]
        }
      ]
    },
    {
      "cell_type": "markdown",
      "source": [
        "• Solve the following system of Linear equation using Inverse Methods.\n",
        "\n",
        "\n",
        "  2x − 3y + z = −1\n",
        "\n",
        "  x − y + 2z = −3\n",
        "  \n",
        "  3x + y − z = 9\n",
        "\n",
        "{Hint: First use Numpy array to represent the equation in Matrix form. Then Solve for: AX = B}"
      ],
      "metadata": {
        "id": "CWsjJPYu5IlE"
      }
    },
    {
      "cell_type": "code",
      "source": [
        "A = np.array([[2, -3, 1],\n",
        "              [1, -1, 2],\n",
        "              [3, 1, -1]])\n",
        "B = np.array([-1, -3, 9])\n",
        "print(\"Coefficient matrix A:\")\n",
        "print(A)\n",
        "print(\"\\nConstant matrix B:\")\n",
        "print(B)"
      ],
      "metadata": {
        "colab": {
          "base_uri": "https://localhost:8080/"
        },
        "id": "R9e_FTBk5Hsp",
        "outputId": "4dac77a8-f909-40d8-ef4b-1109269a4367"
      },
      "execution_count": 60,
      "outputs": [
        {
          "output_type": "stream",
          "name": "stdout",
          "text": [
            "Coefficient matrix A:\n",
            "[[ 2 -3  1]\n",
            " [ 1 -1  2]\n",
            " [ 3  1 -1]]\n",
            "\n",
            "Constant matrix B:\n",
            "[-1 -3  9]\n"
          ]
        }
      ]
    },
    {
      "cell_type": "code",
      "source": [
        "A = np.array([[2, -3, 1],\n",
        "              [1, -1, 2],\n",
        "              [3, 1, -1]])\n",
        "B = np.array([-1, -3, 9])\n",
        "\n",
        "# Inverse of A\n",
        "A_inv = np.linalg.inv(A)\n",
        "\n",
        "# Solve for X using X = A_inv * B\n",
        "X = np.dot(A_inv, B)\n",
        "print(\"Solution using Inverse Method:\\n\", X)"
      ],
      "metadata": {
        "colab": {
          "base_uri": "https://localhost:8080/"
        },
        "id": "f9djzvH35LnO",
        "outputId": "1b06c93b-f830-416c-b8d0-ee966683d841"
      },
      "execution_count": 56,
      "outputs": [
        {
          "output_type": "stream",
          "name": "stdout",
          "text": [
            "Solution using Inverse Method:\n",
            " [ 2.  1. -2.]\n"
          ]
        }
      ]
    },
    {
      "cell_type": "markdown",
      "source": [
        "• Now: solve the above equation using np.linalg.inv function.{Explore more about ”linalg” func-\n",
        "tion of Numpy}"
      ],
      "metadata": {
        "id": "B4ew0XUp5n9q"
      }
    },
    {
      "cell_type": "code",
      "source": [
        "A_inv = np.linalg.inv(A)\n",
        "X = np.dot(A_inv, B)\n",
        "print(\"Solution using np.linalg.inv function:\")\n",
        "print(X)"
      ],
      "metadata": {
        "colab": {
          "base_uri": "https://localhost:8080/"
        },
        "id": "zYd-Qiw85PXr",
        "outputId": "7c5adecd-bbca-4d96-c1b0-bb39540d2ffd"
      },
      "execution_count": 57,
      "outputs": [
        {
          "output_type": "stream",
          "name": "stdout",
          "text": [
            "Solution using np.linalg.inv function:\n",
            "[ 2.  1. -2.]\n"
          ]
        }
      ]
    },
    {
      "cell_type": "markdown",
      "source": [
        "#**10.2.Experiment: How Fast is Numpy?**"
      ],
      "metadata": {
        "id": "M2mpKqzD5so6"
      }
    },
    {
      "cell_type": "markdown",
      "source": [
        "1. Element-wise Addition:\n",
        "\n",
        "  • Using Python Lists, perform element-wise addition of two lists of size 1, 000, 000. Measure\n",
        "  and Print the time taken for this operation.\n",
        "\n",
        "  • Using Numpy Arrays, Repeat the calculation and measure and print the time taken for\n",
        "  this operation."
      ],
      "metadata": {
        "id": "uYo8qDdS5uA4"
      }
    },
    {
      "cell_type": "code",
      "source": [
        "import time\n",
        "\n",
        "#Using Python List\n",
        "list1 = list(range(1, 1000001))  # List from 1 to 1,000,000\n",
        "list2 = list(range(1000000, 0, -1))  # List from 1,000,000 to 1\n",
        "\n",
        "# Perform element-wise addition using a loop\n",
        "start_time = time.time()\n",
        "result_list = [list1[i] + list2[i] for i in range(len(list1))]\n",
        "end_time = time.time()\n",
        "\n",
        "print(\"Time taken for Python Lists (Element-wise Addition): {:.6f} seconds\".format(end_time - start_time))\n",
        "\n",
        "#Using Numpy Arrays\n",
        "array1 = np.arange(1, 1000001)  # Array from 1 to 1,000,000\n",
        "array2 = np.arange(1000000, 0, -1)  # Array from 1,000,000 to 1\n",
        "\n",
        "start_time = time.time()\n",
        "result_array = array1 + array2\n",
        "end_time = time.time()\n",
        "\n",
        "print(\"Time taken for NumPy Arrays (Element-wise Addition): {:.6f} seconds\".format(end_time - start_time))"
      ],
      "metadata": {
        "colab": {
          "base_uri": "https://localhost:8080/"
        },
        "id": "ZzGcVoxr5vJf",
        "outputId": "90fb3ae7-4cc7-426f-c8f7-a1269eac432d"
      },
      "execution_count": 61,
      "outputs": [
        {
          "output_type": "stream",
          "name": "stdout",
          "text": [
            "Time taken for Python Lists (Element-wise Addition): 0.095849 seconds\n",
            "Time taken for NumPy Arrays (Element-wise Addition): 0.015827 seconds\n"
          ]
        }
      ]
    },
    {
      "cell_type": "markdown",
      "source": [
        "2. Element-wise Multiplication:\n",
        "\n",
        "  • Using Python Lists, perform element-wise multiplication of two lists of size 1, 000, 000.\n",
        "  Measure and Print the time taken for this operation.\n",
        "\n",
        "  • Using Numpy Arrays, Repeat the calculation and measure and print the time taken for\n",
        "  this operation."
      ],
      "metadata": {
        "id": "MNitiBNn6Cpt"
      }
    },
    {
      "cell_type": "code",
      "source": [
        "import time\n",
        "\n",
        "print(\"Element-wise Multiplication:\\n\")\n",
        "\n",
        "# Using Python Lists\n",
        "list1 = list(range(1, 1000001))\n",
        "list2 = list(range(1000000, 0, -1))\n",
        "\n",
        "start_time = time.time()\n",
        "result_list = [list1[i] * list2[i] for i in range(len(list1))]\n",
        "end_time = time.time()\n",
        "\n",
        "print(\"Time taken for Python Lists (Element-wise Multiplication): {:.6f} seconds\".format(end_time - start_time))\n",
        "\n",
        "# Using NumPy Arrays\n",
        "array1 = np.arange(1, 1000001)\n",
        "array2 = np.arange(1000000, 0, -1)\n",
        "\n",
        "start_time = time.time()\n",
        "result_array = array1 * array2\n",
        "end_time = time.time()\n",
        "\n",
        "print(\"Time taken for NumPy Arrays (Element-wise Multiplication): {:.6f} seconds\".format(end_time - start_time))"
      ],
      "metadata": {
        "colab": {
          "base_uri": "https://localhost:8080/"
        },
        "id": "fRHa_bNm6CDB",
        "outputId": "6db17bbd-cc81-4772-9a6c-ccef45f6b0cf"
      },
      "execution_count": 62,
      "outputs": [
        {
          "output_type": "stream",
          "name": "stdout",
          "text": [
            "Element-wise Multiplication:\n",
            "\n",
            "Time taken for Python Lists (Element-wise Multiplication): 0.131664 seconds\n",
            "Time taken for NumPy Arrays (Element-wise Multiplication): 0.005484 seconds\n"
          ]
        }
      ]
    },
    {
      "cell_type": "markdown",
      "source": [
        "3. Dot Product:\n",
        "\n",
        "  • Using Python Lists, compute the dot product of two lists of size 1, 000, 000. Measure and\n",
        "  Print the time taken for this operation.\n",
        "  \n",
        "  • Using Numpy Arrays, Repeat the calculation and measure and print the time taken for\n",
        "  this operation."
      ],
      "metadata": {
        "id": "y6dunkaG6HWP"
      }
    },
    {
      "cell_type": "code",
      "source": [
        "import time\n",
        "\n",
        "# Using Python Lists\n",
        "list1 = list(range(1, 1000001))\n",
        "list2 = list(range(1000000, 0, -1))\n",
        "\n",
        "start_time = time.time()\n",
        "dot_product_list = sum(list1[i] * list2[i] for i in range(len(list1)))\n",
        "end_time = time.time()\n",
        "\n",
        "print(\"Time taken for Python Lists (Dot Product): {:.6f} seconds\".format(end_time - start_time))\n",
        "\n",
        "# Using NumPy Arrays\n",
        "array1 = np.arange(1, 1000001)\n",
        "array2 = np.arange(1000000, 0, -1)\n",
        "\n",
        "start_time = time.time()\n",
        "dot_product_array = np.dot(array1, array2)\n",
        "end_time = time.time()\n",
        "\n",
        "print(\"Time taken for NumPy Arrays (Dot Product): {:.6f} seconds\".format(end_time - start_time))"
      ],
      "metadata": {
        "colab": {
          "base_uri": "https://localhost:8080/"
        },
        "id": "Z81k15b06FSt",
        "outputId": "45a063c8-5816-407b-a9b1-029414a90315"
      },
      "execution_count": 63,
      "outputs": [
        {
          "output_type": "stream",
          "name": "stdout",
          "text": [
            "Time taken for Python Lists (Dot Product): 0.083923 seconds\n",
            "Time taken for NumPy Arrays (Dot Product): 0.001355 seconds\n"
          ]
        }
      ]
    },
    {
      "cell_type": "markdown",
      "source": [
        "4. Matrix Multiplication:\n",
        "\n",
        "  • Using Python lists, perform matrix multiplication of two matrices of size 1000x1000. Mea-\n",
        "  sure and print the time taken for this operation.\n",
        "\n",
        "  • Using NumPy arrays, perform matrix multiplication of two matrices of size 1000x1000.\n",
        "  Measure and print the time taken for this operation."
      ],
      "metadata": {
        "id": "apuE-0rA6K2s"
      }
    },
    {
      "cell_type": "code",
      "source": [
        "import time\n",
        "\n",
        "size = 1000\n",
        "\n",
        "# Using Python lists\n",
        "matrix1_list = [[np.random.rand() for _ in range(size)] for _ in range(size)]\n",
        "matrix2_list = [[np.random.rand() for _ in range(size)] for _ in range(size)]\n",
        "\n",
        "start_time = time.time()\n",
        "result_list = [[sum(a * b for a, b in zip(row, col)) for col in zip(*matrix2_list)] for row in matrix1_list]\n",
        "end_time = time.time()\n",
        "python_time = end_time - start_time\n",
        "\n",
        "print(f\"Time taken using Python lists: {python_time:.4f} seconds\")\n",
        "\n",
        "# Using NumPy\n",
        "matrix1_np = np.random.rand(size, size)\n",
        "matrix2_np = np.random.rand(size, size)\n",
        "\n",
        "start_time = time.time()\n",
        "result_np = np.dot(matrix1_np, matrix2_np)\n",
        "end_time = time.time()\n",
        "numpy_time = end_time - start_time\n",
        "\n",
        "print(f\"Time taken using NumPy: {numpy_time:.4f} seconds\")\n"
      ],
      "metadata": {
        "colab": {
          "base_uri": "https://localhost:8080/"
        },
        "id": "ZAN1a24J6JQG",
        "outputId": "9bd645d9-1b3d-4d2d-d396-d60f8fd6d109"
      },
      "execution_count": 65,
      "outputs": [
        {
          "output_type": "stream",
          "name": "stdout",
          "text": [
            "Time taken using Python lists: 84.9050 seconds\n",
            "Time taken using NumPy: 0.0697 seconds\n"
          ]
        }
      ]
    }
  ]
}